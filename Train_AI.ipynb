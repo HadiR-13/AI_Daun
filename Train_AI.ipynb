{
  "cells": [
    {
      "cell_type": "code",
      "execution_count": null,
      "metadata": {
        "id": "rRWg-KXBOig8"
      },
      "outputs": [],
      "source": [
        "from google.colab import drive\n",
        "\n",
        "drive.mount('/content/drive/') # klo make google drive"
      ]
    },
    {
      "cell_type": "code",
      "execution_count": null,
      "metadata": {
        "id": "-ZuflDPUK8-W"
      },
      "outputs": [],
      "source": [
        "import os\n",
        "import random\n",
        "from shutil import copyfile"
      ]
    },
    {
      "cell_type": "code",
      "execution_count": null,
      "metadata": {
        "id": "or-rE9tQXXOY"
      },
      "outputs": [],
      "source": [
        "base_dir = \"/content/drive/My Drive/Latihan_AI\"  # Use yout own drive\n",
        "\n",
        "data_dir = os.path.join(base_dir, 'Data')\n",
        "train_dir = os.path.join(base_dir, 'training_1')\n",
        "val_dir = os.path.join(base_dir, 'validation_1')"
      ]
    },
    {
      "cell_type": "markdown",
      "metadata": {
        "id": "EYYVRFNuWuSr"
      },
      "source": [
        "# Data Train"
      ]
    },
    {
      "cell_type": "markdown",
      "metadata": {
        "id": "MY9jokQhqELW"
      },
      "source": [
        "## Build the data"
      ]
    },
    {
      "cell_type": "code",
      "execution_count": null,
      "metadata": {
        "id": "IlRFIStdYq5p"
      },
      "outputs": [],
      "source": [
        "angiospermae = [\n",
        "    \"acer_campestre\", \"acer_ginnala\", \"acer_griseum\", \"acer_negundo\", \"acer_palmatum\", \"acer_pensylvanicum\",\n",
        "    \"acer_platanoides\", \"acer_pseudoplatanus\", \"acer_rubrum\", \"acer_saccharinum\", \"acer_saccharum\", \"aesculus_flava\",\n",
        "    \"aesculus_glabra\", \"aesculus_hippocastamon\", \"aesculus_pavi\", \"ailanthus_altissima\", \"albizia_julibrissin\",\n",
        "    \"amelanchier_arborea\", \"amelanchier_canadensis\", \"amelanchier_laevis\", \"asimina_triloba\",\n",
        "    \"betula_alleghaniensis\", \"betula_jacqemontii\", \"betula_lenta\", \"betula_nigra\", \"betula_populifolia\",\n",
        "    \"broussonettia_papyrifera\", \"carpinus_betulus\", \"carpinus_caroliniana\", \"carya_cordiformis\", \"carya_glabra\",\n",
        "    \"carya_ovata\", \"carya_tomentosa\", \"castanea_dentata\", \"catalpa_bignonioides\", \"catalpa_speciosa\",\n",
        "    \"celtis_occidentalis\", \"celtis_tenuifolia\", \"cercidiphyllum_japonicum\", \"cercis_canadensis\", \"chionanthus_retusus\",\n",
        "    \"chionanthus_virginicus\", \"cladrastis_lutea\", \"cornus_florida\", \"cornus_kousa\", \"cornus_mas\", \"corylus_colurna\",\n",
        "    \"crataegus_crus-galli\", \"crataegus_laevigata\", \"crataegus_phaenopyrum\", \"crataegus_pruinosa\", \"crataegus_viridis\",\n",
        "    \"diospyros_virginiana\", \"eucommia_ulmoides\", \"evodia_daniellii\", \"fagus_grandifolia\", \"ficus_carica\",\n",
        "    \"fraxinus_americana\", \"fraxinus_nigra\", \"fraxinus_pennsylvanica\", \"gleditsia_triacanthos\", \"gymnocladus_dioicus\",\n",
        "    \"halesia_tetraptera\", \"ilex_opaca\", \"juglans_cinerea\", \"juglans_nigra\", \"koelreuteria_paniculata\",\n",
        "    \"liquidambar_styraciflua\", \"liriodendron_tulipifera\", \"maclura_pomifera\", \"magnolia_acuminata\",\n",
        "    \"magnolia_denudata\", \"magnolia_grandiflora\", \"magnolia_macrophylla\", \"magnolia_soulangiana\", \"magnolia_stellata\",\n",
        "    \"magnolia_tripetala\", \"magnolia_virginiana\", \"malus_angustifolia\", \"malus_baccata\", \"malus_coronaria\",\n",
        "    \"malus_floribunda\", \"malus_hupehensis\", \"malus_pumila\", \"morus_alba\", \"morus_rubra\", \"nyssa_sylvatica\",\n",
        "    \"ostrya_virginiana\", \"oxydendrum_arboreum\", \"paulownia_tomentosa\", \"phellodendron_amurense\",\n",
        "    \"platanus_acerifolia\", \"platanus_occidentalis\", \"populus_deltoides\", \"populus_grandidentata\",\n",
        "    \"populus_tremuloides\", \"prunus_pensylvanica\", \"prunus_sargentii\", \"prunus_serotina\", \"prunus_serrulata\",\n",
        "    \"prunus_subhirtella\", \"prunus_virginiana\", \"prunus_yedoensis\", \"ptelea_trifoliata\", \"pyrus_calleryana\",\n",
        "    \"quercus_acutissima\", \"quercus_alba\", \"quercus_bicolor\", \"quercus_cerris\", \"quercus_coccinea\", \"quercus_falcata\",\n",
        "    \"quercus_imbricaria\", \"quercus_macrocarpa\", \"quercus_marilandica\", \"quercus_michauxii\", \"quercus_montana\",\n",
        "    \"quercus_muehlenbergii\", \"quercus_nigra\", \"quercus_palustris\", \"quercus_phellos\", \"quercus_robur\",\n",
        "    \"quercus_rubra\", \"quercus_shumardii\", \"quercus_stellata\", \"quercus_velutina\", \"quercus_virginiana\",\n",
        "    \"robinia_pseudo-acacia\", \"salix_babylonica\", \"salix_caroliniana\", \"salix_matsudana\", \"salix_nigra\",\n",
        "    \"sassafras_albidum\", \"staphylea_trifolia\", \"stewartia_pseudocamellia\", \"styrax_japonica\", \"styrax_obassia\",\n",
        "    \"syringa_reticulata\", \"tilia_americana\", \"tilia_cordata\", \"tilia_europaea\", \"tilia_tomentosa\", \"toona_sinensis\",\n",
        "    \"ulmus_americana\", \"ulmus_glabra\", \"ulmus_parvifolia\", \"ulmus_pumila\", \"ulmus_rubra\", \"zelkova_serrata\"\n",
        "]\n",
        "\n",
        "gymnospermae = [\n",
        "    \"abies_concolor\", \"abies_nordmanniana\", \"cedrus_atlantica\", \"cedrus_deodara\", \"cedrus_libani\",\n",
        "    \"chamaecyparis_pisifera\", \"chamaecyparis_thyoides\", \"cryptomeria_japonica\", \"ginkgo_biloba\",\n",
        "    \"juniperus_virginiana\", \"larix_decidua\", \"metasequoia_glyptostroboides\", \"picea_abies\", \"picea_orientalis\",\n",
        "    \"picea_pungens\", \"pinus_bungeana\", \"pinus_cembra\", \"pinus_densiflora\", \"pinus_echinata\", \"pinus_flexilis\",\n",
        "    \"pinus_koraiensis\", \"pinus_nigra\", \"pinus_parviflora\", \"pinus_peucea\", \"pinus_pungens\", \"pinus_resinosa\",\n",
        "    \"pinus_rigida\", \"pinus_strobus\", \"pinus_sylvestris\", \"pinus_taeda\", \"pinus_thunbergii\", \"pinus_virginiana\",\n",
        "    \"pinus_wallichiana\", \"pseudolarix_amabilis\", \"taxodium_distichum\", \"tsuga_canadensis\"\n",
        "]"
      ]
    },
    {
      "cell_type": "code",
      "execution_count": null,
      "metadata": {
        "colab": {
          "background_save": true
        },
        "id": "HkObyZIEbJRS"
      },
      "outputs": [],
      "source": [
        "def train_val_split(source, train, val, train_ratio):\n",
        "    if not os.path.exists(source):\n",
        "        print(f\"[Warning] Source directory does not exist: {source}\")\n",
        "        return\n",
        "\n",
        "    os.makedirs(train, exist_ok=True)\n",
        "    os.makedirs(val, exist_ok=True)\n",
        "\n",
        "    all_files = [f for f in os.listdir(source) if os.path.isfile(os.path.join(source, f))]\n",
        "    total_size = len(all_files)\n",
        "\n",
        "    if total_size == 0:\n",
        "        print(f\"[Warning] No files in source directory: {source}\")\n",
        "        return\n",
        "\n",
        "    train_size = int(train_ratio * total_size)\n",
        "\n",
        "    randomized = random.sample(all_files, total_size)\n",
        "    train_files = randomized[:train_size]\n",
        "    val_files = randomized[train_size:]\n",
        "\n",
        "    for file in train_files:\n",
        "        src_file = os.path.join(source, file)\n",
        "        dst_file = os.path.join(train, file)\n",
        "        copyfile(src_file, dst_file)\n",
        "\n",
        "    for file in val_files:\n",
        "        src_file = os.path.join(source, file)\n",
        "        dst_file = os.path.join(val, file)\n",
        "        copyfile(src_file, dst_file)\n",
        "\n",
        "train_ratio = 0.9\n",
        "paths = {}\n",
        "\n",
        "for name in angiospermae:\n",
        "    var_name = name.replace(\"-\", \"_\")\n",
        "    paths[var_name] = os.path.join(data_dir, f\"angiospermae/{name}/\")\n",
        "    paths[f\"train_{var_name}\"] = os.path.join(train_dir, f\"{name}/\")\n",
        "    paths[f\"validation_{var_name}\"] = os.path.join(val_dir, f\"{name}/\")\n",
        "\n",
        "    train_val_split(\n",
        "        paths[var_name],\n",
        "        paths[f\"train_{var_name}\"],\n",
        "        paths[f\"validation_{var_name}\"],\n",
        "        train_ratio\n",
        "    )\n",
        "\n",
        "for name in gymnospermae:\n",
        "    var_name = name.replace(\"-\", \"_\")\n",
        "    paths[var_name] = os.path.join(data_dir, f\"gymnospermae/{name}/\")\n",
        "    paths[f\"train_{var_name}\"] = os.path.join(train_dir, f\"{name}/\")\n",
        "    paths[f\"validation_{var_name}\"] = os.path.join(val_dir, f\"{name}/\")\n",
        "\n",
        "    train_val_split(\n",
        "        paths[var_name],\n",
        "        paths[f\"train_{var_name}\"],\n",
        "        paths[f\"validation_{var_name}\"],\n",
        "        train_ratio\n",
        "    )"
      ]
    },
    {
      "cell_type": "markdown",
      "metadata": {
        "id": "smdpeWrOW2s2"
      },
      "source": [
        "## Train Model\n"
      ]
    },
    {
      "cell_type": "code",
      "execution_count": null,
      "metadata": {
        "id": "h3-OZxYv06j_"
      },
      "outputs": [],
      "source": [
        "import tensorflow as tf\n",
        "from tensorflow.keras.preprocessing.image import ImageDataGenerator\n",
        "import tensorflow.keras.backend as K\n",
        "from keras.saving import register_keras_serializable"
      ]
    },
    {
      "cell_type": "code",
      "execution_count": null,
      "metadata": {
        "id": "k-dINkiLDHzS"
      },
      "outputs": [],
      "source": [
        "@register_keras_serializable(package=\"Custom\", name=\"f1_score\")\n",
        "def f1_score(y_true, y_pred):\n",
        "    y_pred = K.round(y_pred)\n",
        "    y_true = K.cast(y_true, 'float32')\n",
        "    y_pred = K.cast(y_pred, 'float32')\n",
        "\n",
        "    tp = K.sum(y_true * y_pred, axis=0)\n",
        "    fp = K.sum((1 - y_true) * y_pred, axis=0)\n",
        "    fn = K.sum(y_true * (1 - y_pred), axis=0)\n",
        "\n",
        "    precision = tp / (tp + fp + K.epsilon())\n",
        "    recall = tp / (tp + fn + K.epsilon())\n",
        "\n",
        "    f1 = 2 * precision * recall / (precision + recall + K.epsilon())\n",
        "    return K.mean(f1)"
      ]
    },
    {
      "cell_type": "code",
      "execution_count": null,
      "metadata": {
        "id": "KEVwh4Y9DWAD"
      },
      "outputs": [],
      "source": [
        "batch_size = 8\n",
        "image_size = (150, 150)"
      ]
    },
    {
      "cell_type": "code",
      "execution_count": null,
      "metadata": {
        "id": "XpfSaaa_6J7J"
      },
      "outputs": [],
      "source": [
        "train_datagen = ImageDataGenerator(\n",
        "    rescale=1./255,\n",
        "    shear_range=0.2,\n",
        "    rotation_range=30,\n",
        "    zoom_range=0.2,\n",
        "    width_shift_range=0.2,\n",
        "    height_shift_range=0.2,\n",
        "    horizontal_flip=True,\n",
        "    brightness_range=(0.8, 1.2),\n",
        "    fill_mode='nearest'\n",
        ")\n",
        "\n",
        "val_datagen = ImageDataGenerator(rescale=1./255)"
      ]
    },
    {
      "cell_type": "code",
      "execution_count": null,
      "metadata": {
        "id": "450t9zQ_7VlE"
      },
      "outputs": [],
      "source": [
        "train_generator = train_datagen.flow_from_directory(\n",
        "    train_dir,\n",
        "    target_size=image_size,\n",
        "    batch_size=batch_size,\n",
        "    class_mode='categorical'\n",
        ")\n",
        "\n",
        "val_generator = val_datagen.flow_from_directory(\n",
        "    val_dir,\n",
        "    target_size=image_size,\n",
        "    batch_size=batch_size,\n",
        "    class_mode='categorical'\n",
        ")"
      ]
    },
    {
      "cell_type": "markdown",
      "metadata": {
        "id": "Kj1jMN3RqeJN"
      },
      "source": [
        "Klo mau train dari awal run yang ini, tapi klo mau melanjutkan train dari model yang dah ada run yang di bawah nya, yang ini jangan di run"
      ]
    },
    {
      "cell_type": "code",
      "execution_count": null,
      "metadata": {
        "id": "_y84JK5jOiLg"
      },
      "outputs": [],
      "source": [
        "num_classes = train_generator.num_classes\n",
        "\n",
        "model = tf.keras.Sequential()\n",
        "model.add(tf.keras.layers.Input(shape=(150, 150, 3)))\n",
        "model.add(tf.keras.layers.Conv2D(32,(3,3),padding='same',activation='relu'))\n",
        "model.add(tf.keras.layers.MaxPooling2D(pool_size=(2,2)))\n",
        "model.add(tf.keras.layers.BatchNormalization())\n",
        "model.add(tf.keras.layers.Conv2D(32,(3,3), padding='same',activation='relu'))\n",
        "model.add(tf.keras.layers.MaxPooling2D(pool_size=(2,2)))\n",
        "model.add(tf.keras.layers.BatchNormalization())\n",
        "model.add(tf.keras.layers.Conv2D(64,(3,3), padding='same',activation='relu'))\n",
        "model.add(tf.keras.layers.MaxPooling2D(pool_size=(2,2)))\n",
        "model.add(tf.keras.layers.BatchNormalization())\n",
        "model.add(tf.keras.layers.Conv2D(64,(3,3), padding='same',activation='relu'))\n",
        "model.add(tf.keras.layers.MaxPooling2D(pool_size=(2,2)))\n",
        "model.add(tf.keras.layers.BatchNormalization())\n",
        "model.add(tf.keras.layers.Conv2D(128,(3,3), padding='same',activation='relu'))\n",
        "model.add(tf.keras.layers.MaxPooling2D(pool_size=(2,2)))\n",
        "model.add(tf.keras.layers.BatchNormalization())\n",
        "model.add(tf.keras.layers.Flatten())\n",
        "\n",
        "model.add(tf.keras.layers.Dense(256, activation='relu'))\n",
        "model.add(tf.keras.layers.Dropout(0.5))\n",
        "model.add(tf.keras.layers.Dense(128, activation='relu'))\n",
        "model.add(tf.keras.layers.Dropout(0.5))\n",
        "model.add(tf.keras.layers.Dense(64, activation='relu'))\n",
        "model.add(tf.keras.layers.Dense(num_classes,activation='softmax'))"
      ]
    },
    {
      "cell_type": "code",
      "execution_count": null,
      "metadata": {
        "id": "q9AMM6OmcVEp"
      },
      "outputs": [],
      "source": [
        "from tensorflow.keras.models import load_model\n",
        "\n",
        "model = load_model(\"/content/drive/My Drive/Latihan_AI/final_mode_2.keras\", compile=False) # Lihat foldernya"
      ]
    },
    {
      "cell_type": "code",
      "execution_count": null,
      "metadata": {
        "colab": {
          "base_uri": "https://localhost:8080/",
          "height": 913
        },
        "id": "8Dl8lzCBSwk7",
        "outputId": "eb119c4e-29bb-4874-8107-5d068f448703"
      },
      "outputs": [],
      "source": [
        "model.compile(\n",
        "    loss='categorical_crossentropy',\n",
        "    optimizer=tf.keras.optimizers.Adam(learning_rate=1e-4),\n",
        "    metrics=['accuracy', f1_score]\n",
        ")\n",
        "model.summary()"
      ]
    },
    {
      "cell_type": "code",
      "execution_count": null,
      "metadata": {
        "id": "_ilP-HGuEpbx"
      },
      "outputs": [],
      "source": [
        "from tensorflow.keras.callbacks import ModelCheckpoint, EarlyStopping, TensorBoard, ReduceLROnPlateau\n",
        "import datetime"
      ]
    },
    {
      "cell_type": "code",
      "execution_count": null,
      "metadata": {
        "id": "x5aEK-A4DroF"
      },
      "outputs": [],
      "source": [
        "log_dir = \"logs/fit/\" + datetime.datetime.now().strftime(\"%Y%m%d-%H%M%S\")\n",
        "\n",
        "callbacks = [\n",
        "    ModelCheckpoint(\n",
        "        filepath=\"best_model.keras\",\n",
        "        monitor='val_accuracy',\n",
        "        save_best_only=True,\n",
        "        save_weights_only=False,\n",
        "        mode='max',\n",
        "        verbose=1\n",
        "    ),\n",
        "    EarlyStopping(\n",
        "        monitor='val_loss',\n",
        "        patience=5,\n",
        "        restore_best_weights=True,\n",
        "        verbose=1\n",
        "    ),\n",
        "    ReduceLROnPlateau(\n",
        "        monitor='val_loss',\n",
        "        factor=0.5,\n",
        "        patience=3,\n",
        "        min_lr=1e-6,\n",
        "        verbose=1\n",
        "    ),\n",
        "    TensorBoard(\n",
        "        log_dir=log_dir,\n",
        "        histogram_freq=1,\n",
        "        write_graph=True,\n",
        "        write_images=True\n",
        "    )\n",
        "]"
      ]
    },
    {
      "cell_type": "code",
      "execution_count": null,
      "metadata": {
        "id": "860qrEkyD3_z"
      },
      "outputs": [],
      "source": [
        "import math\n",
        "\n",
        "train_steps = math.ceil(train_generator.samples / train_generator.batch_size)\n",
        "val_steps = math.ceil(val_generator.samples / val_generator.batch_size)\n",
        "epochs = 20"
      ]
    },
    {
      "cell_type": "code",
      "execution_count": null,
      "metadata": {
        "colab": {
          "base_uri": "https://localhost:8080/"
        },
        "id": "AIn732lnZ7WP",
        "outputId": "36617299-19e4-4384-eedf-21d35b4c36ef"
      },
      "outputs": [
        {
          "name": "stdout",
          "output_type": "stream",
          "text": [
            "Epoch 1/20\n",
            "\u001b[1m862/862\u001b[0m \u001b[32m━━━━━━━━━━━━━━━━━━━━\u001b[0m\u001b[37m\u001b[0m \u001b[1m370s\u001b[0m 428ms/step - accuracy: 0.5901 - f1_score: 0.0190 - loss: 1.3081 - val_accuracy: 0.6104 - val_f1_score: 0.0210 - val_loss: 1.5068\n",
            "Epoch 2/20\n",
            "\u001b[1m862/862\u001b[0m \u001b[32m━━━━━━━━━━━━━━━━━━━━\u001b[0m\u001b[37m\u001b[0m \u001b[1m372s\u001b[0m 417ms/step - accuracy: 0.6055 - f1_score: 0.0197 - loss: 1.2680 - val_accuracy: 0.5110 - val_f1_score: 0.0166 - val_loss: 2.0453\n",
            "Epoch 3/20\n",
            "\u001b[1m862/862\u001b[0m \u001b[32m━━━━━━━━━━━━━━━━━━━━\u001b[0m\u001b[37m\u001b[0m \u001b[1m378s\u001b[0m 412ms/step - accuracy: 0.5981 - f1_score: 0.0193 - loss: 1.2747 - val_accuracy: 0.7168 - val_f1_score: 0.0263 - val_loss: 0.8694\n",
            "Epoch 4/20\n",
            "\u001b[1m862/862\u001b[0m \u001b[32m━━━━━━━━━━━━━━━━━━━━\u001b[0m\u001b[37m\u001b[0m \u001b[1m387s\u001b[0m 418ms/step - accuracy: 0.5791 - f1_score: 0.0186 - loss: 1.3033 - val_accuracy: 0.6636 - val_f1_score: 0.0245 - val_loss: 1.0715\n",
            "Epoch 5/20\n",
            "\u001b[1m862/862\u001b[0m \u001b[32m━━━━━━━━━━━━━━━━━━━━\u001b[0m\u001b[37m\u001b[0m \u001b[1m382s\u001b[0m 418ms/step - accuracy: 0.5916 - f1_score: 0.0198 - loss: 1.2368 - val_accuracy: 0.6659 - val_f1_score: 0.0241 - val_loss: 1.0579\n",
            "Epoch 6/20\n",
            "\u001b[1m862/862\u001b[0m \u001b[32m━━━━━━━━━━━━━━━━━━━━\u001b[0m\u001b[37m\u001b[0m \u001b[1m379s\u001b[0m 415ms/step - accuracy: 0.5883 - f1_score: 0.0188 - loss: 1.2518 - val_accuracy: 0.4150 - val_f1_score: 0.0144 - val_loss: 2.9360\n",
            "Epoch 7/20\n",
            "\u001b[1m862/862\u001b[0m \u001b[32m━━━━━━━━━━━━━━━━━━━━\u001b[0m\u001b[37m\u001b[0m \u001b[1m355s\u001b[0m 412ms/step - accuracy: 0.5976 - f1_score: 0.0189 - loss: 1.2996 - val_accuracy: 0.6081 - val_f1_score: 0.0213 - val_loss: 1.3382\n",
            "Epoch 8/20\n",
            "\u001b[1m862/862\u001b[0m \u001b[32m━━━━━━━━━━━━━━━━━━━━\u001b[0m\u001b[37m\u001b[0m \u001b[1m359s\u001b[0m 416ms/step - accuracy: 0.6038 - f1_score: 0.0194 - loss: 1.2367 - val_accuracy: 0.6890 - val_f1_score: 0.0247 - val_loss: 1.0070\n",
            "Epoch 9/20\n",
            "\u001b[1m862/862\u001b[0m \u001b[32m━━━━━━━━━━━━━━━━━━━━\u001b[0m\u001b[37m\u001b[0m \u001b[1m384s\u001b[0m 419ms/step - accuracy: 0.6029 - f1_score: 0.0194 - loss: 1.2715 - val_accuracy: 0.6000 - val_f1_score: 0.0214 - val_loss: 1.5233\n",
            "Epoch 10/20\n",
            "\u001b[1m862/862\u001b[0m \u001b[32m━━━━━━━━━━━━━━━━━━━━\u001b[0m\u001b[37m\u001b[0m \u001b[1m361s\u001b[0m 418ms/step - accuracy: 0.5912 - f1_score: 0.0192 - loss: 1.2837 - val_accuracy: 0.6509 - val_f1_score: 0.0236 - val_loss: 1.1450\n",
            "Epoch 11/20\n",
            "\u001b[1m862/862\u001b[0m \u001b[32m━━━━━━━━━━━━━━━━━━━━\u001b[0m\u001b[37m\u001b[0m \u001b[1m384s\u001b[0m 421ms/step - accuracy: 0.5965 - f1_score: 0.0188 - loss: 1.2827 - val_accuracy: 0.6971 - val_f1_score: 0.0264 - val_loss: 0.8571\n",
            "Epoch 12/20\n",
            "\u001b[1m862/862\u001b[0m \u001b[32m━━━━━━━━━━━━━━━━━━━━\u001b[0m\u001b[37m\u001b[0m \u001b[1m361s\u001b[0m 419ms/step - accuracy: 0.6020 - f1_score: 0.0201 - loss: 1.2239 - val_accuracy: 0.6347 - val_f1_score: 0.0229 - val_loss: 1.1644\n",
            "Epoch 13/20\n",
            "\u001b[1m862/862\u001b[0m \u001b[32m━━━━━━━━━━━━━━━━━━━━\u001b[0m\u001b[37m\u001b[0m \u001b[1m383s\u001b[0m 420ms/step - accuracy: 0.6061 - f1_score: 0.0196 - loss: 1.2543 - val_accuracy: 0.7029 - val_f1_score: 0.0258 - val_loss: 0.9009\n",
            "Epoch 14/20\n",
            "\u001b[1m862/862\u001b[0m \u001b[32m━━━━━━━━━━━━━━━━━━━━\u001b[0m\u001b[37m\u001b[0m \u001b[1m372s\u001b[0m 431ms/step - accuracy: 0.6112 - f1_score: 0.0201 - loss: 1.2016 - val_accuracy: 0.6590 - val_f1_score: 0.0238 - val_loss: 1.2513\n",
            "Epoch 15/20\n",
            "\u001b[1m862/862\u001b[0m \u001b[32m━━━━━━━━━━━━━━━━━━━━\u001b[0m\u001b[37m\u001b[0m \u001b[1m361s\u001b[0m 418ms/step - accuracy: 0.5845 - f1_score: 0.0188 - loss: 1.3000 - val_accuracy: 0.6023 - val_f1_score: 0.0214 - val_loss: 1.4859\n",
            "Epoch 16/20\n",
            "\u001b[1m862/862\u001b[0m \u001b[32m━━━━━━━━━━━━━━━━━━━━\u001b[0m\u001b[37m\u001b[0m \u001b[1m376s\u001b[0m 436ms/step - accuracy: 0.5997 - f1_score: 0.0199 - loss: 1.2323 - val_accuracy: 0.6682 - val_f1_score: 0.0232 - val_loss: 1.0687\n",
            "Epoch 17/20\n",
            "\u001b[1m862/862\u001b[0m \u001b[32m━━━━━━━━━━━━━━━━━━━━\u001b[0m\u001b[37m\u001b[0m \u001b[1m360s\u001b[0m 417ms/step - accuracy: 0.6054 - f1_score: 0.0200 - loss: 1.2099 - val_accuracy: 0.6913 - val_f1_score: 0.0242 - val_loss: 1.1182\n",
            "Epoch 18/20\n",
            "\u001b[1m862/862\u001b[0m \u001b[32m━━━━━━━━━━━━━━━━━━━━\u001b[0m\u001b[37m\u001b[0m \u001b[1m359s\u001b[0m 416ms/step - accuracy: 0.6149 - f1_score: 0.0203 - loss: 1.2100 - val_accuracy: 0.5861 - val_f1_score: 0.0211 - val_loss: 1.5611\n",
            "Epoch 19/20\n",
            "\u001b[1m862/862\u001b[0m \u001b[32m━━━━━━━━━━━━━━━━━━━━\u001b[0m\u001b[37m\u001b[0m \u001b[1m397s\u001b[0m 434ms/step - accuracy: 0.6118 - f1_score: 0.0198 - loss: 1.2357 - val_accuracy: 0.7179 - val_f1_score: 0.0264 - val_loss: 0.8606\n",
            "Epoch 20/20\n",
            "\u001b[1m862/862\u001b[0m \u001b[32m━━━━━━━━━━━━━━━━━━━━\u001b[0m\u001b[37m\u001b[0m \u001b[1m373s\u001b[0m 424ms/step - accuracy: 0.6077 - f1_score: 0.0202 - loss: 1.2221 - val_accuracy: 0.7017 - val_f1_score: 0.0266 - val_loss: 0.9274\n"
          ]
        }
      ],
      "source": [
        "history = model.fit(\n",
        "    train_generator,\n",
        "    steps_per_epoch=train_steps,\n",
        "    epochs=epochs,\n",
        "    validation_data=val_generator,\n",
        "    validation_steps=val_steps,\n",
        "    verbose=1\n",
        ")"
      ]
    },
    {
      "cell_type": "code",
      "execution_count": null,
      "metadata": {
        "colab": {
          "base_uri": "https://localhost:8080/",
          "height": 472
        },
        "id": "34MxReQP3yER",
        "outputId": "97ebfc87-3019-4e5c-add5-9900e692ab01"
      },
      "outputs": [
        {
          "data": {
            "image/png": "[encoded data removed]",
            "text/plain": [
              "<Figure size 640x480 with 1 Axes>"
            ]
          },
          "metadata": {},
          "output_type": "display_data"
        },
        {
          "data": {
            "image/png": "[encoded data removed]",
            "text/plain": [
              "<Figure size 640x480 with 1 Axes>"
            ]
          },
          "metadata": {},
          "output_type": "display_data"
        }
      ],
      "source": [
        "import pandas as pd\n",
        "import matplotlib.pyplot as plt\n",
        "history_df = pd.DataFrame(history.history)\n",
        "history_df.loc[:, ['loss', 'val_loss']].plot()\n",
        "history_df.loc[:, ['accuracy', 'val_accuracy']].plot()\n",
        "plt.show()"
      ]
    },
    {
      "cell_type": "code",
      "execution_count": null,
      "metadata": {
        "id": "UUjMmZZABdzd"
      },
      "outputs": [],
      "source": [
        "model.save(\"/content/drive/My Drive/Latihan_AI/final_mode_2.keras\") # Lihat foldernya"
      ]
    },
    {
      "cell_type": "markdown",
      "metadata": {
        "id": "mgQFUIrRFJqU"
      },
      "source": [
        "# Test model"
      ]
    },
    {
      "cell_type": "code",
      "execution_count": null,
      "metadata": {
        "id": "o8H7C3dDGSUD"
      },
      "outputs": [],
      "source": [
        "from google.colab import files\n",
        "from tensorflow.keras.preprocessing import image\n",
        "import numpy as np\n",
        "import matplotlib.pyplot as plt\n",
        "from PIL import Image"
      ]
    },
    {
      "cell_type": "code",
      "execution_count": null,
      "metadata": {
        "id": "8INMFYY4EUXf"
      },
      "outputs": [],
      "source": [
        "from tensorflow.keras.models import load_model\n",
        "\n",
        "model = load_model(\"/content/drive/My Drive/Latihan_AI/final_model.keras\", compile=False) # Lihat foldernya"
      ]
    },
    {
      "cell_type": "code",
      "execution_count": null,
      "metadata": {
        "id": "MYR-S3-uE3ye"
      },
      "outputs": [],
      "source": [
        "uploaded = files.upload()\n",
        "img_path = next(iter(uploaded))\n",
        "\n",
        "img = image.load_img(img_path, target_size=(150, 150))\n",
        "img_array = image.img_to_array(img)\n",
        "img_array = np.expand_dims(img_array, axis=0)\n",
        "img_array = img_array / 255.0\n",
        "\n",
        "plt.imshow(img)\n",
        "plt.axis('off')\n",
        "plt.title(\"Uploaded Test Image\")\n",
        "plt.show()"
      ]
    },
    {
      "cell_type": "code",
      "execution_count": null,
      "metadata": {
        "id": "_tptSHbkE6cv"
      },
      "outputs": [],
      "source": [
        "pred = model.predict(img_array)\n",
        "predicted_class_index = np.argmax(pred)\n",
        "\n",
        "class_indices = train_generator.class_indices\n",
        "labels = dict((v, k) for k, v in class_indices.items())\n",
        "\n",
        "latin_leaf_name = labels[predicted_class_index]\n",
        "genome_ = [\"Angiospermae\", \"Gymnospermae\"][latin_leaf_name in gymnospermae]\n",
        "print(f\"Predicted: {latin_leaf_name.replace('_', ' ').title()} in the genome group {genome_}\")"
      ]
    }
  ],
  "metadata": {
    "colab": {
      "collapsed_sections": [
        "EYYVRFNuWuSr"
      ],
      "provenance": []
    },
    "kernelspec": {
      "display_name": "Python 3",
      "name": "python3"
    },
    "language_info": {
      "name": "python"
    }
  },
  "nbformat": 4,
  "nbformat_minor": 0
}
